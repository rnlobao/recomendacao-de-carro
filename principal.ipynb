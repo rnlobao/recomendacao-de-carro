{
 "cells": [
  {
   "cell_type": "code",
   "execution_count": 182,
   "metadata": {},
   "outputs": [],
   "source": [
    "# Imports\n",
    "\n",
    "import pandas as pd\n",
    "import os\n",
    "import csv"
   ]
  },
  {
   "cell_type": "code",
   "execution_count": 183,
   "metadata": {},
   "outputs": [],
   "source": [
    "# Funções auxiliares\n",
    "\n",
    "def verificar_e_imprimir_numeros(data_frame, nome_da_marca):\n",
    "    numeric_values = pd.to_numeric(data_frame['ano'], errors='coerce')\n",
    "    todos_numeros = numeric_values.notna().all()\n",
    "    print(f'Todos os valores na coluna \"ano\" são números no dataset {nome_da_marca}? {todos_numeros}')\n",
    "\n",
    "    if not todos_numeros:\n",
    "        linhas_nao_numericas = data_frame[~numeric_values.notna()]\n",
    "        print('\\nValores não numéricos na coluna \"ano\":')\n",
    "        for indice, valor in linhas_nao_numericas['ano'].items():\n",
    "            print(f'Índice: {indice}, Valor: {valor}')\n",
    "\n",
    "    return todos_numeros\n",
    "\n",
    "def ler_csv_para_dataframe(caminho_arquivo_csv):\n",
    "    with open(caminho_arquivo_csv, 'r', newline='', encoding='utf-8') as arquivo_csv:\n",
    "        leitor_csv = csv.reader(arquivo_csv)\n",
    "        linhas = list(leitor_csv)        \n",
    "    df = pd.DataFrame(linhas[1:], columns=linhas[0])\n",
    "    return df\n",
    "    \n",
    "def renomear_arquivos_na_pasta(pasta, palavra_antiga, palavra_nova):\n",
    "    for nome_arquivo in os.listdir(pasta):\n",
    "        caminho_arquivo_antigo = os.path.join(pasta, nome_arquivo)\n",
    "        if palavra_antiga in nome_arquivo:\n",
    "            novo_nome_arquivo = nome_arquivo.replace(palavra_antiga, palavra_nova)\n",
    "            caminho_arquivo_novo = os.path.join(pasta, novo_nome_arquivo)\n",
    "            os.rename(caminho_arquivo_antigo, caminho_arquivo_novo)\n",
    "    print(\"Arquivos renomeados com sucesso!\")\n",
    "\n",
    "def obter_nomes_apos_substring(pasta):\n",
    "    nomes_extraidos = []\n",
    "    for nome_arquivo in os.listdir(pasta):\n",
    "        if \"Scraped_Car_Review_\" in nome_arquivo:\n",
    "            parte_nome = nome_arquivo.split(\"Scraped_Car_Review_\")[1].replace(\".csv\", \"\")\n",
    "            nomes_extraidos.append(parte_nome)\n",
    "    return nomes_extraidos"
   ]
  },
  {
   "cell_type": "code",
   "execution_count": 184,
   "metadata": {},
   "outputs": [],
   "source": [
    "# Funcoes de tratamento de dados\n",
    "\n",
    "def tratarValorDoAno(dataFramePAno, marca):\n",
    "    dataFramePAno['ano'] = dataFramePAno['Vehicle_Title'].str.extract('(\\\\d{4})')\n",
    "    numeric_values = pd.to_numeric(dataFramePAno[''], errors='coerce')\n",
    "    dataFramePAno = dataFramePAno[pd.notna(numeric_values)]\n",
    "    allNum = verificar_e_imprimir_numeros(dataFramePAno, marca)\n",
    "    return dataFramePAno"
   ]
  },
  {
   "cell_type": "code",
   "execution_count": 185,
   "metadata": {},
   "outputs": [
    {
     "name": "stdout",
     "output_type": "stream",
     "text": [
      "Arquivos renomeados com sucesso!\n",
      "Arquivos renomeados com sucesso!\n"
     ]
    }
   ],
   "source": [
    "# Tratamento dos arquivos nas pastas\n",
    "\n",
    "pasta = './Data/'\n",
    "palavra_antiga = \"Reviews\"\n",
    "palavra_nova = \"Review\"\n",
    "renomear_arquivos_na_pasta(pasta, palavra_antiga, palavra_nova)\n",
    "\n",
    "palavra_antiga = \"Scrapped\"\n",
    "palavra_nova = \"Scraped\"\n",
    "renomear_arquivos_na_pasta(pasta, palavra_antiga, palavra_nova)\n",
    "\n"
   ]
  },
  {
   "cell_type": "code",
   "execution_count": 186,
   "metadata": {},
   "outputs": [
    {
     "name": "stdout",
     "output_type": "stream",
     "text": [
      "Todos os valores na coluna \"ano\" são números no dataset AstonMartin? False\n",
      "\n",
      "Valores não numéricos na coluna \"ano\":\n",
      "Índice: 58862, Valor: nan\n",
      "Índice: 80018, Valor: nan\n",
      "Índice: 144173, Valor: nan\n",
      "Índice: 179279, Valor: nan\n",
      "Índice: 193865, Valor: nan\n",
      "Índice: 202453, Valor: nan\n",
      "Índice: 233018, Valor: nan\n",
      "Índice: 261609, Valor: nan\n",
      "O arquivo XLSX tem 226939 linhas.\n"
     ]
    }
   ],
   "source": [
    "# Upload dos datasets\n",
    "\n",
    "marcas_de_carro = obter_nomes_apos_substring(\"./Data/\")\n",
    "todos_df = []\n",
    "\n",
    "for marca in marcas_de_carro:\n",
    "    file_path = f'./Data/Scraped_Car_Review_{marca}.csv'\n",
    "    df = ler_csv_para_dataframe(file_path)\n",
    "    todos_df.append(df)\n",
    "\n",
    "df_final = pd.concat(todos_df, ignore_index=True)\n",
    "df_final = tratarValorDoAno(df_final, marca)\n",
    "\n",
    "\n",
    "caminho_arquivo_final = './arquivo_final.xlsx'\n",
    "df_final.to_excel(caminho_arquivo_final, index=False)\n",
    "num_linhas = df_final.shape[0]\n",
    "print(f'O arquivo XLSX tem {num_linhas} linhas.')\n",
    "    \n",
    "    \n"
   ]
  }
 ],
 "metadata": {
  "kernelspec": {
   "display_name": "Python 3",
   "language": "python",
   "name": "python3"
  },
  "language_info": {
   "codemirror_mode": {
    "name": "ipython",
    "version": 3
   },
   "file_extension": ".py",
   "mimetype": "text/x-python",
   "name": "python",
   "nbconvert_exporter": "python",
   "pygments_lexer": "ipython3",
   "version": "3.11.4"
  }
 },
 "nbformat": 4,
 "nbformat_minor": 2
}
