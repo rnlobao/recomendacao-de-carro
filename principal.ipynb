{
 "cells": [
  {
   "cell_type": "markdown",
   "metadata": {},
   "source": [
    "# Imports necessários e o carro que você gostaria de se basear para recomendar"
   ]
  },
  {
   "cell_type": "code",
   "execution_count": null,
   "metadata": {},
   "outputs": [],
   "source": [
    "# Imports\n",
    "\n",
    "import os, shutil, csv\n",
    "\n",
    "import pandas as pd\n",
    "import numpy as np\n",
    "import matplotlib.pyplot as plt\n",
    "\n",
    "from scipy.sparse import csr_matrix\n",
    "from google_images_downloader import GoogleImagesDownloader\n",
    "from sklearn.neighbors import NearestNeighbors\n",
    "from matplotlib.table import table\n",
    "from unidecode import unidecode\n"
   ]
  },
  {
   "cell_type": "code",
   "execution_count": null,
   "metadata": {},
   "outputs": [],
   "source": [
    "recommend_like = 'Porsche-Boxster'"
   ]
  },
  {
   "cell_type": "markdown",
   "metadata": {},
   "source": [
    "# Leitura dos Datasets\n",
    "O que eu preciso?\n",
    "1) Um [dataset](https://www.kaggle.com/datasets/ankkur13/edmundsconsumer-car-ratings-and-reviews/data?select=Scraped_Car_Review_mazda.csv) que contém o id do usuário e um rating para um veículo, também com o ID dele \n",
    "2) Um [dataset](https://www.kaggle.com/datasets/robsonnovato/car-features) que contém o id do veículo com suas características"
   ]
  },
  {
   "cell_type": "code",
   "execution_count": null,
   "metadata": {},
   "outputs": [],
   "source": [
    "# Funções auxiliares\n",
    "\n",
    "def ler_csv_para_dataframe(caminho_arquivo_csv):\n",
    "    with open(caminho_arquivo_csv, 'r', newline='', encoding='utf-8') as arquivo_csv:\n",
    "        leitor_csv = csv.reader(arquivo_csv)\n",
    "        linhas = list(leitor_csv)        \n",
    "    df = pd.DataFrame(linhas[1:], columns=linhas[0])\n",
    "    return df\n",
    "    \n",
    "def renomear_arquivos_na_pasta(pasta, palavra_antiga, palavra_nova):\n",
    "    for nome_arquivo in os.listdir(pasta):\n",
    "        caminho_arquivo_antigo = os.path.join(pasta, nome_arquivo)\n",
    "        if palavra_antiga in nome_arquivo:\n",
    "            novo_nome_arquivo = nome_arquivo.replace(palavra_antiga, palavra_nova)\n",
    "            caminho_arquivo_novo = os.path.join(pasta, novo_nome_arquivo)\n",
    "            os.rename(caminho_arquivo_antigo, caminho_arquivo_novo)\n",
    "    print(\"Arquivos renomeados com sucesso!\")\n",
    "\n",
    "def obter_nomes_apos_substring(pasta):\n",
    "    nomes_extraidos = []\n",
    "    for nome_arquivo in os.listdir(pasta):\n",
    "        if \"Scraped_Car_Review_\" in nome_arquivo:\n",
    "            parte_nome = nome_arquivo.split(\"Scraped_Car_Review_\")[1].replace(\".csv\", \"\")\n",
    "            nomes_extraidos.append(parte_nome)\n",
    "    return nomes_extraidos"
   ]
  },
  {
   "cell_type": "code",
   "execution_count": null,
   "metadata": {},
   "outputs": [],
   "source": [
    "# Tratamento dos arquivos nas pastas do dataset baixado (alguns nomes são inconsistentes)\n",
    "\n",
    "pasta = './Data/'\n",
    "palavra_antiga = \"Reviews\"\n",
    "palavra_nova = \"Review\"\n",
    "renomear_arquivos_na_pasta(pasta, palavra_antiga, palavra_nova)\n",
    "\n",
    "palavra_antiga = \"Scrapped\"\n",
    "palavra_nova = \"Scraped\"\n",
    "renomear_arquivos_na_pasta(pasta, palavra_antiga, palavra_nova)"
   ]
  },
  {
   "cell_type": "code",
   "execution_count": null,
   "metadata": {},
   "outputs": [],
   "source": [
    "# Upload dos datasets\n",
    "\n",
    "marcas_de_carro = obter_nomes_apos_substring(\"./Data/\")\n",
    "todos_df = []\n",
    "\n",
    "for marca in marcas_de_carro:\n",
    "    file_path = f'./Data/Scraped_Car_Review_{marca}.csv'\n",
    "    df = ler_csv_para_dataframe(file_path)\n",
    "    df = df.drop([\"Review_Title\", \"Review\", \"Review_Date\", \"\"], axis=1)\n",
    "    todos_df.append(df)\n",
    "\n",
    "ratings = pd.concat(todos_df, ignore_index=True)\n",
    "ratings = ratings.dropna()"
   ]
  },
  {
   "cell_type": "markdown",
   "metadata": {},
   "source": [
    "# Tratativas"
   ]
  },
  {
   "cell_type": "code",
   "execution_count": null,
   "metadata": {},
   "outputs": [],
   "source": [
    "# 1) Criar um ID unico para cada comprador\n",
    "\n",
    "author_to_id = {}\n",
    "for i, author in enumerate(ratings[\"Author_Name\"].unique()):\n",
    "    author_to_id[author] = i\n",
    "ratings[\"userID\"] = ratings[\"Author_Name\"].apply(lambda author: author_to_id[author])"
   ]
  },
  {
   "cell_type": "code",
   "execution_count": null,
   "metadata": {},
   "outputs": [],
   "source": [
    "# 2) Algumas tratativas do dataset de usuarios\n",
    "\n",
    "ratings['Company'] = ratings['Vehicle_Title'].str.split().str[1]\n",
    "ratings['Vehicle_Title'] = ratings['Vehicle_Title'].str.split().str[2:]\n",
    "ratings['Vehicle_Title'] = ratings['Vehicle_Title'].str.join(' ')\n",
    "ratings['Model'] = ratings['Vehicle_Title'].str.split().str[0]\n",
    "ratings = ratings.drop(\"Vehicle_Title\", axis=1)\n",
    "\n",
    "ratings['carID'] = ratings['Company'].astype(str) + '-' + ratings['Model'].astype(str)"
   ]
  },
  {
   "cell_type": "code",
   "execution_count": null,
   "metadata": {},
   "outputs": [],
   "source": [
    "# 3) Algumas tratativas do dataset de veiculos\n",
    "\n",
    "cars = pd.read_csv('cars.csv')\n",
    "cars['carID'] = cars['Company'].astype(str) + '-' + cars['Model'].astype(str)\n",
    "\n",
    "substituicoes = {\n",
    "    'cupe': 'coupe',\n",
    "    'seda': 'sedan',\n",
    "    'convertible': 'conversivel',\n",
    "    'hatch': 'hatchback',\n",
    "    'pick-up': 'picape',\n",
    "    'pickup': 'picape',\n",
    "    'hatchback eletrico': 'hatchback',\n",
    "    'sports car': 'esportivo',\n",
    "    'hatchback esportivo': 'hatchback',\n",
    "    'station wagon': 'wagon',\n",
    "    'truck': 'minivan',\n",
    "    'seda de luxo': 'sedan',\n",
    "    'crossover': 'suv',\n",
    "    'hibrido': 'sedan',\n",
    "    'furgao': 'van',\n",
    "    'cabriolet': 'conversivel',\n",
    "    'subcompacto': 'compacto',\n",
    "    'media': 'picape',\n",
    "    'muscle car': 'esportivo'\n",
    "}\n",
    "\n",
    "cars['bodytype'] = cars['bodytype'].str.lower().apply(unidecode).replace(substituicoes)\n",
    "valores_unicos_bodytype = cars['bodytype'].unique()\n",
    "\n",
    "mapeamento_numerico = {}\n",
    "for bodytype in valores_unicos_bodytype:\n",
    "    index = len(mapeamento_numerico) + 1\n",
    "    mapeamento_numerico[bodytype] = index\n",
    "cars['bodytype'] = cars['bodytype'].map(mapeamento_numerico)"
   ]
  },
  {
   "cell_type": "markdown",
   "metadata": {},
   "source": [
    "# Análises estatísticas"
   ]
  },
  {
   "cell_type": "code",
   "execution_count": null,
   "metadata": {},
   "outputs": [],
   "source": [
    "n_ratings = len(ratings)\n",
    "n_cars = len(ratings['carID'].unique())\n",
    "n_users = len(ratings['userID'].unique())\n",
    "\n",
    "print(f\"Numero de ratings: {n_ratings}\")\n",
    "print(f\"Numero de veiculos unicos: {n_cars}\")\n",
    "print(f\"Numero de avaliadores unicos: {n_users}\")\n",
    "print(f\"Rating medio por avaliador: {round(n_ratings/n_users, 2)}\")\n",
    "print(f\"Numero medio de rating por veiculo: {round(n_ratings/n_cars, 2)}\")"
   ]
  },
  {
   "cell_type": "code",
   "execution_count": null,
   "metadata": {},
   "outputs": [],
   "source": [
    "ratings['Rating'] = ratings['Rating'].astype(float)\n",
    "mean_rating = ratings.groupby('carID')[['Rating']].mean()\n",
    "lowest_rated = mean_rating['Rating'].idxmin()\n",
    "cars.loc[cars['carID'] == lowest_rated]\n",
    "highest_rated = mean_rating['Rating'].idxmax()\n",
    "cars.loc[cars['carID'] == highest_rated]\n",
    "ratings[ratings['carID']==highest_rated]\n",
    "ratings[ratings['carID']==lowest_rated]\n",
    "\n",
    "car_stats = ratings.groupby('carID')[['Rating']].agg(['count', 'mean'])\n",
    "car_stats.columns = car_stats.columns.droplevel()"
   ]
  },
  {
   "cell_type": "markdown",
   "metadata": {},
   "source": [
    "# Método de recomendação por KNN"
   ]
  },
  {
   "cell_type": "code",
   "execution_count": null,
   "metadata": {},
   "outputs": [],
   "source": [
    "def create_matrix(df):\n",
    "\tN = len(df['userID'].unique())\n",
    "\tM = len(df['carID'].unique())\n",
    "\tuser_mapper = dict(zip(np.unique(df[\"userID\"]), list(range(N))))\n",
    "\tcar_mapper = dict(zip(np.unique(df[\"carID\"]), list(range(M))))\n",
    "\tuser_inv_mapper = dict(zip(list(range(N)), np.unique(df[\"userID\"])))\n",
    "\tcar_inv_mapper = dict(zip(list(range(M)), np.unique(df[\"carID\"])))\n",
    "\tuser_index = [user_mapper[i] for i in df['userID']]\n",
    "\tcar_index = [car_mapper[i] for i in df['carID']]\n",
    "\tX = csr_matrix((df[\"Rating\"], (car_index, user_index)), shape=(M, N))\n",
    "\treturn X, user_mapper, car_mapper, user_inv_mapper, car_inv_mapper"
   ]
  },
  {
   "cell_type": "code",
   "execution_count": null,
   "metadata": {},
   "outputs": [],
   "source": [
    "def find_similar_cars(recommend_like, X, k, car_mapper, car_inv_mapper, metric='cosine',  show_distance=False):\n",
    "\tneighbour_ids = []\n",
    "\tcar_ind = car_mapper[recommend_like]\n",
    "\tcar_vec = X[car_ind]\n",
    "\tk+=1\n",
    "\tkNN = NearestNeighbors(n_neighbors=k, algorithm=\"brute\", metric=metric)\n",
    "\tkNN.fit(X)\n",
    "\tcar_vec = car_vec.reshape(1,-1)\n",
    "\tneighbour = kNN.kneighbors(car_vec, return_distance=show_distance)\n",
    "\tfor i in range(0,k):\n",
    "\t\tn = neighbour.item(i)\n",
    "\t\tneighbour_ids.append(car_inv_mapper[n])\n",
    "\tneighbour_ids.pop(0)\n",
    "\treturn neighbour_ids"
   ]
  },
  {
   "cell_type": "code",
   "execution_count": null,
   "metadata": {},
   "outputs": [],
   "source": [
    "X, user_mapper, car_mapper, user_inv_mapper, car_inv_mapper = create_matrix(ratings)\n",
    "similar_ids = find_similar_cars(recommend_like, X, 3, car_mapper, car_inv_mapper)\n",
    "\n",
    "carros_recomendados = []\n",
    "\n",
    "car_titles = dict(zip(cars['carID'], cars['carID']))\n",
    "car_title = car_titles[recommend_like]\n",
    "carros_recomendados.append(car_title)\n",
    "\n",
    "for i in similar_ids:\n",
    "    carros_recomendados.append(car_titles[i])"
   ]
  },
  {
   "cell_type": "markdown",
   "metadata": {},
   "source": [
    "# Funções de plotagem dos veículos recomendados"
   ]
  },
  {
   "cell_type": "code",
   "execution_count": null,
   "metadata": {},
   "outputs": [],
   "source": [
    "# Download das imagens\n",
    "\n",
    "def baixar_imagens(array_de_carros):\n",
    "    downloader = GoogleImagesDownloader(browser=\"chrome\", show=False, debug=False, quiet=False, disable_safeui=False) \n",
    "    for carro in array_de_carros:\n",
    "        downloader.download(carro, limit=1, destination=\"./carros-sugeridos\", file_format=\"PNG\")\n",
    "    downloader.close()"
   ]
  },
  {
   "cell_type": "code",
   "execution_count": null,
   "metadata": {},
   "outputs": [],
   "source": [
    "def plotar_carros(array_de_carros):\n",
    "    fig, axs = plt.subplots(2, 2, figsize=(10, 10))\n",
    "\n",
    "    for i, ax in enumerate(axs.flatten()):\n",
    "        carro = array_de_carros[i]\n",
    "        image_path = f'./carros-sugeridos/{carro}/{carro}_0.png'\n",
    "\n",
    "        if os.path.exists(image_path):\n",
    "            image = plt.imread(image_path)\n",
    "            ax.imshow(image)\n",
    "            ax.set_title(carro)\n",
    "            ax.axis('off')\n",
    "        else:\n",
    "            ax.axis('off')\n",
    "            ax.set_title(f'Imagem não encontrada para {carro}')\n",
    "\n",
    "    plt.show()\n"
   ]
  },
  {
   "cell_type": "code",
   "execution_count": null,
   "metadata": {},
   "outputs": [],
   "source": [
    "def excluir_pasta(caminho_pasta):\n",
    "    if os.path.exists(caminho_pasta):\n",
    "        shutil.rmtree(caminho_pasta)\n",
    "    else:\n",
    "        print(f\"A pasta {caminho_pasta} não existe.\")"
   ]
  },
  {
   "cell_type": "code",
   "execution_count": null,
   "metadata": {},
   "outputs": [],
   "source": [
    "def criar_tabela(ax, dados, headers):\n",
    "    tabela = table(ax, cellText=dados, colLabels=headers, loc='center')\n",
    "    tabela.auto_set_font_size(False)\n",
    "    tabela.set_fontsize(10)\n",
    "    tabela.scale(4, 1.2)\n",
    "    for i in range(len(headers)):\n",
    "        tabela[(0, i)].set_facecolor(\"#a6a6a6\") \n",
    "        tabela[(1, i)].set_facecolor(\"red\")\n",
    "    ax.axis('off')\n",
    "    return tabela\n",
    "\n",
    "def apresentar_tabela(lista_de_carros_recomendados):\n",
    "    headers = ['Carro', 'Cavalos', 'Marchas', 'Preço Médio', 'Bodytype', 'Cilindros', 'km/l', 'Lugares']\n",
    "    dados = []\n",
    "    mapeamento_string_para_numerico = {v: k for k, v in mapeamento_numerico.items()}\n",
    "    for i in lista_de_carros_recomendados:\n",
    "        carro_recomendado = cars.loc[cars['carID'] == i]\n",
    "        dados.append([\n",
    "            i,\n",
    "            carro_recomendado['Cavalos'].values[0],\n",
    "            carro_recomendado['Marchas'].values[0],\n",
    "            f'R${carro_recomendado[\"Preço médio\"].values[0]:.2f}',\n",
    "            mapeamento_string_para_numerico.get(carro_recomendado['bodytype'].values[0], 'Não encontrado'),\n",
    "            carro_recomendado['cilindros'].values[0],\n",
    "            carro_recomendado['km/l'].values[0],\n",
    "            carro_recomendado['lugares'].values[0],\n",
    "        ])\n",
    "    fig, ax = plt.subplots()\n",
    "    tabela = criar_tabela(ax, dados, headers)\n",
    "    plt.show()\n"
   ]
  },
  {
   "cell_type": "code",
   "execution_count": null,
   "metadata": {},
   "outputs": [],
   "source": [
    "def criar_grafico_barras_por_ids(ids):\n",
    "    instancias_selecionadas = cars[cars['carID'].isin(ids)]\n",
    "    plt.figure(figsize=(10, 6))\n",
    "    plt.bar(instancias_selecionadas['carID'], instancias_selecionadas['Preço médio'], color='blue')\n",
    "    \n",
    "    plt.xlabel('IDs')\n",
    "    plt.ylabel('Preço Médio')\n",
    "    plt.title('Preço Médio por ID')\n",
    "    \n",
    "    plt.show()"
   ]
  },
  {
   "cell_type": "code",
   "execution_count": null,
   "metadata": {},
   "outputs": [],
   "source": [
    "def plotagem(lista_de_carros, tem_carro_base=False):\n",
    "    if tem_carro_base:\n",
    "        print(f\"Se voce gostou de {lista_de_carros[0]}, pode gostar de:\")\n",
    "        for carro in lista_de_carros[1:]:\n",
    "            print(carro)\n",
    "    else:\n",
    "        print(f\"Carros recomendados:\")\n",
    "        for carro in lista_de_carros:\n",
    "            print(carro)\n",
    "    print(\"\\n\\n\")\n",
    "    baixar_imagens(lista_de_carros)\n",
    "    plotar_carros(lista_de_carros)\n",
    "    apresentar_tabela(lista_de_carros)\n",
    "    criar_grafico_barras_por_ids(lista_de_carros)\n",
    "    excluir_pasta(\"./carros-sugeridos/\")"
   ]
  },
  {
   "cell_type": "markdown",
   "metadata": {},
   "source": [
    "# Plotar veículos recomendados"
   ]
  },
  {
   "cell_type": "code",
   "execution_count": null,
   "metadata": {},
   "outputs": [],
   "source": [
    "plotagem(carros_recomendados, tem_carro_base=True)"
   ]
  }
 ],
 "metadata": {
  "kernelspec": {
   "display_name": "Python 3",
   "language": "python",
   "name": "python3"
  },
  "language_info": {
   "codemirror_mode": {
    "name": "ipython",
    "version": 3
   },
   "file_extension": ".py",
   "mimetype": "text/x-python",
   "name": "python",
   "nbconvert_exporter": "python",
   "pygments_lexer": "ipython3",
   "version": "3.11.4"
  }
 },
 "nbformat": 4,
 "nbformat_minor": 2
}
