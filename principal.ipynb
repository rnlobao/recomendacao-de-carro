{
 "cells": [
  {
   "cell_type": "code",
   "execution_count": 183,
   "metadata": {},
   "outputs": [],
   "source": [
    "# Imports\n",
    "\n",
    "import pandas as pd\n",
    "import os\n",
    "import csv\n",
    "import pandas as pd\n",
    "import numpy as np"
   ]
  },
  {
   "cell_type": "markdown",
   "metadata": {},
   "source": [
    "# Sets iniciais de Dataset\n",
    "O que eu preciso?\n",
    "1) Um dataset que contém o id do usuário e um rating para um veículo, também com o ID dele\n",
    "2) Um dataset que contém o id do veículo com suas características"
   ]
  },
  {
   "cell_type": "code",
   "execution_count": 184,
   "metadata": {},
   "outputs": [],
   "source": [
    "# Funções auxiliares\n",
    "\n",
    "def ler_csv_para_dataframe(caminho_arquivo_csv):\n",
    "    with open(caminho_arquivo_csv, 'r', newline='', encoding='utf-8') as arquivo_csv:\n",
    "        leitor_csv = csv.reader(arquivo_csv)\n",
    "        linhas = list(leitor_csv)        \n",
    "    df = pd.DataFrame(linhas[1:], columns=linhas[0])\n",
    "    return df\n",
    "    \n",
    "def renomear_arquivos_na_pasta(pasta, palavra_antiga, palavra_nova):\n",
    "    for nome_arquivo in os.listdir(pasta):\n",
    "        caminho_arquivo_antigo = os.path.join(pasta, nome_arquivo)\n",
    "        if palavra_antiga in nome_arquivo:\n",
    "            novo_nome_arquivo = nome_arquivo.replace(palavra_antiga, palavra_nova)\n",
    "            caminho_arquivo_novo = os.path.join(pasta, novo_nome_arquivo)\n",
    "            os.rename(caminho_arquivo_antigo, caminho_arquivo_novo)\n",
    "    print(\"Arquivos renomeados com sucesso!\")\n",
    "\n",
    "def obter_nomes_apos_substring(pasta):\n",
    "    nomes_extraidos = []\n",
    "    for nome_arquivo in os.listdir(pasta):\n",
    "        if \"Scraped_Car_Review_\" in nome_arquivo:\n",
    "            parte_nome = nome_arquivo.split(\"Scraped_Car_Review_\")[1].replace(\".csv\", \"\")\n",
    "            nomes_extraidos.append(parte_nome)\n",
    "    return nomes_extraidos"
   ]
  },
  {
   "cell_type": "code",
   "execution_count": 185,
   "metadata": {},
   "outputs": [
    {
     "name": "stdout",
     "output_type": "stream",
     "text": [
      "Arquivos renomeados com sucesso!\n",
      "Arquivos renomeados com sucesso!\n"
     ]
    }
   ],
   "source": [
    "# Tratamento dos arquivos nas pastas\n",
    "\n",
    "pasta = './Data/'\n",
    "palavra_antiga = \"Reviews\"\n",
    "palavra_nova = \"Review\"\n",
    "renomear_arquivos_na_pasta(pasta, palavra_antiga, palavra_nova)\n",
    "\n",
    "palavra_antiga = \"Scrapped\"\n",
    "palavra_nova = \"Scraped\"\n",
    "renomear_arquivos_na_pasta(pasta, palavra_antiga, palavra_nova)"
   ]
  },
  {
   "cell_type": "code",
   "execution_count": 186,
   "metadata": {},
   "outputs": [
    {
     "name": "stdout",
     "output_type": "stream",
     "text": [
      "['lamborghini', 'lotus', 'isuzu', 'ferrari', 'Cadillac', 'Honda', 'Volkswagen', 'AMGeneral', 'Bugatti', 'land-rover', 'lincoln', 'rolls-royce', 'Chevrolet', 'mercury', 'mercedes-benz', 'Toyota', 'porsche', 'genesis', 'mazda', 'Audi', 'mini', 'maybach', 'hyundai', 'chrysler', 'kia', 'BMW', 'maserati', 'subaru', 'Buick', 'fiat', 'Bentley', 'lexus', 'hummer', 'Acura', 'jeep', 'ford', 'pontiac', 'mitsubishi', 'nissan', 'jaguar', 'tesla', 'volvo', 'dodge', 'mclaren', 'infiniti', 'ram', 'AlfaRomeo', 'suzuki', 'GMC', 'AstonMartin']\n"
     ]
    }
   ],
   "source": [
    "# Upload dos datasets\n",
    "\n",
    "marcas_de_carro = obter_nomes_apos_substring(\"./Data/\")\n",
    "todos_df = []\n",
    "print(marcas_de_carro)\n",
    "\n",
    "for marca in marcas_de_carro:\n",
    "    file_path = f'./Data/Scraped_Car_Review_{marca}.csv'\n",
    "    df = ler_csv_para_dataframe(file_path)\n",
    "    df = df.drop([\"Review_Title\", \"Review\", \"Review_Date\", \"\"], axis=1)\n",
    "    todos_df.append(df)\n",
    "\n",
    "df_final = pd.concat(todos_df, ignore_index=True)\n",
    "df_final = df_final.dropna()\n",
    "\n",
    "author_to_id = {}\n",
    "for i, author in enumerate(df_final[\"Author_Name\"].unique()):\n",
    "    author_to_id[author] = i\n",
    "df_final[\"userID\"] = df_final[\"Author_Name\"].apply(lambda author: author_to_id[author])\n",
    "df_final.to_csv(\"df_final.csv\")"
   ]
  },
  {
   "cell_type": "code",
   "execution_count": 187,
   "metadata": {},
   "outputs": [
    {
     "name": "stdout",
     "output_type": "stream",
     "text": [
      "['Ferrari' 'Mahindra' 'Toyota' 'Ford' 'Chevrolet' 'Nissan' 'BMW'\n",
      " 'Mercedes-Benz' 'Audi' 'Volkswagen' 'Porsche' 'Rolls-Royce' 'McLaren'\n",
      " 'Lexus' 'Hyundai' 'Kia' 'Mazda' 'Subaru' 'Mitsubishi' 'Tesla' 'Dodge'\n",
      " 'Ram' 'Volvo' 'Land Rover' 'Jaguar' 'Fiat' 'Alfa Romeo' 'Peugeot'\n",
      " 'Citroën' 'Renault' 'Skoda' 'SEAT' 'Opel/Vauxhall' 'Mini' 'Saab'\n",
      " 'Bugatti' 'Maserati' 'Lancia' 'Pagani' 'Koenigsegg' 'Genesis' 'Polestar'\n",
      " 'Lucid Motors' 'Rivian' 'Faraday Future' 'Alpina' 'Cadillac' 'Caterham'\n",
      " 'Chrysler' 'Fisker' 'Infiniti' 'Isuzu' 'Lotus' 'Morgan' 'Smart' 'Suzuki'\n",
      " 'Vauxhall' 'Zagato' 'Wiesmann' 'Lamborghini' 'Honda' 'Tata Motors']\n",
      "['ferrari', 'toyota', 'ford', 'chevrolet', 'nissan', 'bmw', 'mercedes-benz', 'audi', 'volkswagen', 'porsche', 'rolls-royce', 'mclaren', 'lexus', 'hyundai', 'kia', 'mazda', 'subaru', 'mitsubishi', 'tesla', 'dodge', 'ram', 'volvo', 'jaguar', 'fiat', 'mini', 'bugatti', 'maserati', 'genesis', 'cadillac', 'chrysler', 'infiniti', 'isuzu', 'lotus', 'suzuki', 'lamborghini', 'honda']\n",
      "36\n"
     ]
    }
   ],
   "source": [
    "df = pd.read_csv(\"Car_Models.csv\")\n",
    "unique_companies = df[\"Company\"].unique()\n",
    "print(unique_companies)\n",
    "unique_companies = unique_companies.astype(str)\n",
    "\n",
    "unique_companies_lower = np.char.lower(unique_companies)\n",
    "marcas_de_carro_lower = np.char.lower(marcas_de_carro)\n",
    "\n",
    "marcas_comuns = [marca for marca in unique_companies_lower if marca in marcas_de_carro_lower]\n",
    "\n",
    "# Imprime as marcas comuns\n",
    "print(marcas_comuns)\n",
    "print(len(marcas_comuns))"
   ]
  }
 ],
 "metadata": {
  "kernelspec": {
   "display_name": "Python 3",
   "language": "python",
   "name": "python3"
  },
  "language_info": {
   "codemirror_mode": {
    "name": "ipython",
    "version": 3
   },
   "file_extension": ".py",
   "mimetype": "text/x-python",
   "name": "python",
   "nbconvert_exporter": "python",
   "pygments_lexer": "ipython3",
   "version": "3.11.4"
  }
 },
 "nbformat": 4,
 "nbformat_minor": 2
}
