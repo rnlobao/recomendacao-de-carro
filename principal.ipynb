{
 "cells": [
  {
   "cell_type": "code",
   "execution_count": 13,
   "metadata": {},
   "outputs": [],
   "source": [
    "# Imports\n",
    "\n",
    "import pandas as pd\n",
    "import os"
   ]
  },
  {
   "cell_type": "code",
   "execution_count": 14,
   "metadata": {},
   "outputs": [],
   "source": [
    "# Funções auxiliares\n",
    "\n",
    "def verificarSeSaoTodosNumeros(dataFramePNumerico):\n",
    "    todos_numeros = pd.to_numeric(dataFramePNumerico['ano'], errors='coerce').notna().all()\n",
    "    print(f'Todos os valores na coluna \"ano\" são números? {todos_numeros}')\n",
    "\n",
    "def ler_csv_para_dataframe(caminho_arquivo_csv):\n",
    "    df = open(caminho_arquivo_csv, 'r', newline='', encoding='utf-8')\n",
    "    return df\n",
    "    \n",
    "def renomear_arquivos_na_pasta(pasta, palavra_antiga, palavra_nova):\n",
    "    for nome_arquivo in os.listdir(pasta):\n",
    "        caminho_arquivo_antigo = os.path.join(pasta, nome_arquivo)\n",
    "        if palavra_antiga in nome_arquivo:\n",
    "            novo_nome_arquivo = nome_arquivo.replace(palavra_antiga, palavra_nova)\n",
    "            caminho_arquivo_novo = os.path.join(pasta, novo_nome_arquivo)\n",
    "            os.rename(caminho_arquivo_antigo, caminho_arquivo_novo)\n",
    "    print(\"Arquivos renomeados com sucesso!\")\n",
    "\n",
    "def obter_nomes_apos_substring(pasta):\n",
    "    nomes_extraidos = []\n",
    "    for nome_arquivo in os.listdir(pasta):\n",
    "        if \"Scrapped_Car_Review_\" in nome_arquivo and nome_arquivo.endswith(\".csv\"):\n",
    "            parte_nome = nome_arquivo.split(\"Scrapped_Car_Review_\")[1].replace(\".csv\", \"\")\n",
    "            nomes_extraidos.append(parte_nome)\n",
    "    return nomes_extraidos"
   ]
  },
  {
   "cell_type": "code",
   "execution_count": 15,
   "metadata": {},
   "outputs": [
    {
     "name": "stdout",
     "output_type": "stream",
     "text": [
      "Arquivos renomeados com sucesso!\n"
     ]
    }
   ],
   "source": [
    "# Tratamento dos arquivos nas pastas\n",
    "\n",
    "pasta = './Data/'  # Substitua pelo caminho da sua pasta\n",
    "palavra_antiga = \"Reviews\"\n",
    "palavra_nova = \"Review\"\n",
    "\n",
    "renomear_arquivos_na_pasta(pasta, palavra_antiga, palavra_nova)"
   ]
  },
  {
   "cell_type": "code",
   "execution_count": 16,
   "metadata": {},
   "outputs": [
    {
     "name": "stdout",
     "output_type": "stream",
     "text": [
      "<_io.TextIOWrapper name='./Data/Scrapped_Car_Review_Honda.csv' mode='r' encoding='utf-8'>\n",
      "<_io.TextIOWrapper name='./Data/Scrapped_Car_Review_Bentley.csv' mode='r' encoding='utf-8'>\n",
      "<_io.TextIOWrapper name='./Data/Scrapped_Car_Review_Cadillac.csv' mode='r' encoding='utf-8'>\n",
      "<_io.TextIOWrapper name='./Data/Scrapped_Car_Review_AlfaRomeo.csv' mode='r' encoding='utf-8'>\n",
      "<_io.TextIOWrapper name='./Data/Scrapped_Car_Review_AstonMartin.csv' mode='r' encoding='utf-8'>\n",
      "<_io.TextIOWrapper name='./Data/Scrapped_Car_Review_Buick.csv' mode='r' encoding='utf-8'>\n",
      "<_io.TextIOWrapper name='./Data/Scrapped_Car_Review_Volkswagen.csv' mode='r' encoding='utf-8'>\n",
      "<_io.TextIOWrapper name='./Data/Scrapped_Car_Review_AMGeneral.csv' mode='r' encoding='utf-8'>\n",
      "<_io.TextIOWrapper name='./Data/Scrapped_Car_Review_Bugatti.csv' mode='r' encoding='utf-8'>\n",
      "<_io.TextIOWrapper name='./Data/Scrapped_Car_Review_GMC.csv' mode='r' encoding='utf-8'>\n",
      "<_io.TextIOWrapper name='./Data/Scrapped_Car_Review_BMW.csv' mode='r' encoding='utf-8'>\n",
      "<_io.TextIOWrapper name='./Data/Scrapped_Car_Review_Acura.csv' mode='r' encoding='utf-8'>\n",
      "<_io.TextIOWrapper name='./Data/Scrapped_Car_Review_Toyota.csv' mode='r' encoding='utf-8'>\n",
      "<_io.TextIOWrapper name='./Data/Scrapped_Car_Review_chrysler.csv' mode='r' encoding='utf-8'>\n",
      "<_io.TextIOWrapper name='./Data/Scrapped_Car_Review_Audi.csv' mode='r' encoding='utf-8'>\n",
      "<_io.TextIOWrapper name='./Data/Scrapped_Car_Review_Chevrolet.csv' mode='r' encoding='utf-8'>\n"
     ]
    }
   ],
   "source": [
    "# Upload dos datasets\n",
    "\n",
    "marcas_de_carro = obter_nomes_apos_substring(\"./Data/\")\n",
    "\n",
    "for marca in marcas_de_carro:\n",
    "    file_path = f'./Data/Scrapped_Car_Review_{marca}.csv'\n",
    "    df = ler_csv_para_dataframe(file_path)\n",
    "    print(df)\n",
    "    # print(f'O DataFrame para a marca {marca} tem {df.shape} colunas.')\n",
    "\n",
    "    # if file_path == './Data/Scrapped_Car_Review_AMGeneral.csv':\n",
    "    #     df.head()\n",
    "\n"
   ]
  }
 ],
 "metadata": {
  "kernelspec": {
   "display_name": "Python 3",
   "language": "python",
   "name": "python3"
  },
  "language_info": {
   "codemirror_mode": {
    "name": "ipython",
    "version": 3
   },
   "file_extension": ".py",
   "mimetype": "text/x-python",
   "name": "python",
   "nbconvert_exporter": "python",
   "pygments_lexer": "ipython3",
   "version": "3.11.4"
  }
 },
 "nbformat": 4,
 "nbformat_minor": 2
}
