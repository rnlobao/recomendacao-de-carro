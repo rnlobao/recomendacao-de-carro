{
 "cells": [
  {
   "cell_type": "code",
   "execution_count": null,
   "metadata": {},
   "outputs": [],
   "source": [
    "# Imports\n",
    "\n",
    "import pandas as pd\n",
    "import os\n",
    "import csv\n",
    "import pandas as pd"
   ]
  },
  {
   "cell_type": "markdown",
   "metadata": {},
   "source": [
    "# Sets iniciais de Dataset\n",
    "O que eu preciso?\n",
    "1) Um dataset que contém o id do usuário e um rating para um veículo, também com o ID dele\n",
    "2) Um dataset que contém o id do veículo com suas características"
   ]
  },
  {
   "cell_type": "code",
   "execution_count": null,
   "metadata": {},
   "outputs": [],
   "source": [
    "# Funções auxiliares\n",
    "\n",
    "def ler_csv_para_dataframe(caminho_arquivo_csv):\n",
    "    with open(caminho_arquivo_csv, 'r', newline='', encoding='utf-8') as arquivo_csv:\n",
    "        leitor_csv = csv.reader(arquivo_csv)\n",
    "        linhas = list(leitor_csv)        \n",
    "    df = pd.DataFrame(linhas[1:], columns=linhas[0])\n",
    "    return df\n",
    "    \n",
    "def renomear_arquivos_na_pasta(pasta, palavra_antiga, palavra_nova):\n",
    "    for nome_arquivo in os.listdir(pasta):\n",
    "        caminho_arquivo_antigo = os.path.join(pasta, nome_arquivo)\n",
    "        if palavra_antiga in nome_arquivo:\n",
    "            novo_nome_arquivo = nome_arquivo.replace(palavra_antiga, palavra_nova)\n",
    "            caminho_arquivo_novo = os.path.join(pasta, novo_nome_arquivo)\n",
    "            os.rename(caminho_arquivo_antigo, caminho_arquivo_novo)\n",
    "    print(\"Arquivos renomeados com sucesso!\")\n",
    "\n",
    "def obter_nomes_apos_substring(pasta):\n",
    "    nomes_extraidos = []\n",
    "    for nome_arquivo in os.listdir(pasta):\n",
    "        if \"Scraped_Car_Review_\" in nome_arquivo:\n",
    "            parte_nome = nome_arquivo.split(\"Scraped_Car_Review_\")[1].replace(\".csv\", \"\")\n",
    "            nomes_extraidos.append(parte_nome)\n",
    "    return nomes_extraidos"
   ]
  },
  {
   "cell_type": "code",
   "execution_count": null,
   "metadata": {},
   "outputs": [],
   "source": [
    "# Tratamento dos arquivos nas pastas\n",
    "\n",
    "pasta = './Data/'\n",
    "palavra_antiga = \"Reviews\"\n",
    "palavra_nova = \"Review\"\n",
    "renomear_arquivos_na_pasta(pasta, palavra_antiga, palavra_nova)\n",
    "\n",
    "palavra_antiga = \"Scrapped\"\n",
    "palavra_nova = \"Scraped\"\n",
    "renomear_arquivos_na_pasta(pasta, palavra_antiga, palavra_nova)"
   ]
  },
  {
   "cell_type": "code",
   "execution_count": null,
   "metadata": {},
   "outputs": [],
   "source": [
    "# Upload dos datasets\n",
    "\n",
    "marcas_de_carro = obter_nomes_apos_substring(\"./Data/\")\n",
    "todos_df = []\n",
    "\n",
    "for marca in marcas_de_carro:\n",
    "    file_path = f'./Data/Scraped_Car_Review_{marca}.csv'\n",
    "    df = ler_csv_para_dataframe(file_path)\n",
    "    df = df.drop([\"Review_Title\", \"Review\", \"Review_Date\", \"\"], axis=1)\n",
    "    todos_df.append(df)\n",
    "\n",
    "df_final = pd.concat(todos_df, ignore_index=True)\n",
    "df_comID = df_final.dropna()"
   ]
  }
 ],
 "metadata": {
  "kernelspec": {
   "display_name": "Python 3",
   "language": "python",
   "name": "python3"
  },
  "language_info": {
   "codemirror_mode": {
    "name": "ipython",
    "version": 3
   },
   "file_extension": ".py",
   "mimetype": "text/x-python",
   "name": "python",
   "nbconvert_exporter": "python",
   "pygments_lexer": "ipython3",
   "version": "3.11.4"
  }
 },
 "nbformat": 4,
 "nbformat_minor": 2
}
