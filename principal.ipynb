{
 "cells": [
  {
   "cell_type": "code",
   "execution_count": 69,
   "metadata": {},
   "outputs": [],
   "source": [
    "# Imports\n",
    "\n",
    "import pandas as pd\n"
   ]
  },
  {
   "cell_type": "code",
   "execution_count": 70,
   "metadata": {},
   "outputs": [],
   "source": [
    "# Funções auxiliares\n",
    "\n",
    "def verificarSeSaoTodosNumeros(dataFramePNumerico):\n",
    "    todos_numeros = pd.to_numeric(dataFramePNumerico['ano'], errors='coerce').notna().all()\n",
    "    print(f'Todos os valores na coluna \"ano\" são números? {todos_numeros}')"
   ]
  },
  {
   "cell_type": "code",
   "execution_count": 71,
   "metadata": {},
   "outputs": [
    {
     "name": "stdout",
     "output_type": "stream",
     "text": [
      "Todos os valores na coluna \"ano\" são números? True\n"
     ]
    },
    {
     "data": {
      "text/html": [
       "<div>\n",
       "<style scoped>\n",
       "    .dataframe tbody tr th:only-of-type {\n",
       "        vertical-align: middle;\n",
       "    }\n",
       "\n",
       "    .dataframe tbody tr th {\n",
       "        vertical-align: top;\n",
       "    }\n",
       "\n",
       "    .dataframe thead th {\n",
       "        text-align: right;\n",
       "    }\n",
       "</style>\n",
       "<table border=\"1\" class=\"dataframe\">\n",
       "  <thead>\n",
       "    <tr style=\"text-align: right;\">\n",
       "      <th></th>\n",
       "      <th>Unnamed: 0</th>\n",
       "      <th>Vehicle_Title</th>\n",
       "      <th>Rating</th>\n",
       "      <th>ano</th>\n",
       "      <th>marca</th>\n",
       "      <th>categoria</th>\n",
       "    </tr>\n",
       "  </thead>\n",
       "  <tbody>\n",
       "    <tr>\n",
       "      <th>0</th>\n",
       "      <td>0</td>\n",
       "      <td>2017 FIAT 124 Spider Convertible Abarth 2dr Co...</td>\n",
       "      <td>5.0</td>\n",
       "      <td>2017</td>\n",
       "      <td>FIAT</td>\n",
       "      <td>Convertible</td>\n",
       "    </tr>\n",
       "    <tr>\n",
       "      <th>1</th>\n",
       "      <td>1</td>\n",
       "      <td>2017 FIAT 124 Spider Convertible Lusso 2dr Con...</td>\n",
       "      <td>5.0</td>\n",
       "      <td>2017</td>\n",
       "      <td>FIAT</td>\n",
       "      <td>Convertible</td>\n",
       "    </tr>\n",
       "    <tr>\n",
       "      <th>2</th>\n",
       "      <td>2</td>\n",
       "      <td>2017 FIAT 124 Spider Convertible Lusso 2dr Con...</td>\n",
       "      <td>5.0</td>\n",
       "      <td>2017</td>\n",
       "      <td>FIAT</td>\n",
       "      <td>Convertible</td>\n",
       "    </tr>\n",
       "    <tr>\n",
       "      <th>3</th>\n",
       "      <td>3</td>\n",
       "      <td>2017 FIAT 124 Spider Convertible Abarth 2dr Co...</td>\n",
       "      <td>5.0</td>\n",
       "      <td>2017</td>\n",
       "      <td>FIAT</td>\n",
       "      <td>Convertible</td>\n",
       "    </tr>\n",
       "    <tr>\n",
       "      <th>4</th>\n",
       "      <td>4</td>\n",
       "      <td>2017 FIAT 124 Spider Convertible Lusso 2dr Con...</td>\n",
       "      <td>5.0</td>\n",
       "      <td>2017</td>\n",
       "      <td>FIAT</td>\n",
       "      <td>Convertible</td>\n",
       "    </tr>\n",
       "  </tbody>\n",
       "</table>\n",
       "</div>"
      ],
      "text/plain": [
       "   Unnamed: 0                                      Vehicle_Title  Rating  \\\n",
       "0           0  2017 FIAT 124 Spider Convertible Abarth 2dr Co...     5.0   \n",
       "1           1  2017 FIAT 124 Spider Convertible Lusso 2dr Con...     5.0   \n",
       "2           2  2017 FIAT 124 Spider Convertible Lusso 2dr Con...     5.0   \n",
       "3           3  2017 FIAT 124 Spider Convertible Abarth 2dr Co...     5.0   \n",
       "4           4  2017 FIAT 124 Spider Convertible Lusso 2dr Con...     5.0   \n",
       "\n",
       "    ano marca    categoria  \n",
       "0  2017  FIAT  Convertible  \n",
       "1  2017  FIAT  Convertible  \n",
       "2  2017  FIAT  Convertible  \n",
       "3  2017  FIAT  Convertible  \n",
       "4  2017  FIAT  Convertible  "
      ]
     },
     "execution_count": 71,
     "metadata": {},
     "output_type": "execute_result"
    }
   ],
   "source": [
    "# Upload dos datasets\n",
    "\n",
    "todos_os_reviews = []\n",
    "\n",
    "file_path_fiat = 'Scraped_Car_Review_fiat.csv'  # Certifique-se de fornecer o caminho correto\n",
    "df_fiat = pd.read_csv(file_path_fiat)\n",
    "\n",
    "# Dropar colunas desnecessarias\n",
    "colunas_para_dropar = ['Author_Name', 'Review_Date', 'Review_Title', 'Review']\n",
    "df_fiat = df_fiat.drop(columns=colunas_para_dropar)\n",
    "\n",
    "# Criar ano de acordo com a primeira string\n",
    "df_fiat['ano'] = df_fiat['Vehicle_Title'].str.extract('(\\d{4})')\n",
    "df_fiat['marca'] = df_fiat['Vehicle_Title'].str.split().str[1]\n",
    "df_fiat['categoria'] = df_fiat['Vehicle_Title'].str.extract(r'(\\b\\w+\\b)\\s*\\(')\n",
    "\n",
    "\n",
    "verificarSeSaoTodosNumeros(df_fiat)\n",
    "df_fiat.head()\n",
    "\n"
   ]
  }
 ],
 "metadata": {
  "kernelspec": {
   "display_name": "Python 3",
   "language": "python",
   "name": "python3"
  },
  "language_info": {
   "codemirror_mode": {
    "name": "ipython",
    "version": 3
   },
   "file_extension": ".py",
   "mimetype": "text/x-python",
   "name": "python",
   "nbconvert_exporter": "python",
   "pygments_lexer": "ipython3",
   "version": "3.11.4"
  }
 },
 "nbformat": 4,
 "nbformat_minor": 2
}
